{
 "cells": [
  {
   "cell_type": "markdown",
   "metadata": {},
   "source": [
    "# DEMO: query the challenge API"
   ]
  },
  {
   "cell_type": "markdown",
   "metadata": {},
   "source": [
    "[EN] This notebook shows how to perform an http query to interact with the model developed by Hospital clinic called nat2sql-DSC.\n",
    "\n",
    "[ES] En este notebook se muestra cómo realizar una consulta http a la API que se comunica con el modelo desarrollado por el Hospital Clínic llamado nat2sql-DSC."
   ]
  },
  {
   "cell_type": "markdown",
   "metadata": {},
   "source": [
    "### 1. Package installation  "
   ]
  },
  {
   "cell_type": "code",
   "execution_count": null,
   "metadata": {},
   "outputs": [],
   "source": [
    "!pip install aws-requests-auth"
   ]
  },
  {
   "cell_type": "markdown",
   "metadata": {},
   "source": [
    "### 2. Package import\n",
    "\n",
    "[EN] The needed packages are:\n",
    "- **boto3**: AWS functionalities access.\n",
    "- **aws_requests_auth**: AWS credentials access.\n",
    "- **requests**: allows to perform http queries.\n",
    "- **urllib**: allows to code the query parameters.\n",
    "\n",
    "[ES] A continuación, se importa los paquetes que son necesarios en esta demo:\n",
    "\n",
    "- **boto3**: acceso a las funcionalidades de AWS.\n",
    "- **aws_requests_auth**: acceso a las credenciales de AWS.\n",
    "- **requests**: permite realizar peticiones http.\n",
    "- **urllib**: permite para codificar los parámetros de la query."
   ]
  },
  {
   "cell_type": "code",
   "execution_count": 1,
   "metadata": {},
   "outputs": [],
   "source": [
    "import requests\n",
    "from aws_requests_auth.aws_auth import AWSRequestsAuth\n",
    "import boto3\n",
    "import urllib"
   ]
  },
  {
   "cell_type": "markdown",
   "metadata": {},
   "source": [
    "### 3. HTTP petition\n",
    "\n",
    "[EN] Function that allows to communicate with nat2sql-DSC\n",
    "\n",
    "[ES] Función que permite comunicarse con el modelo nat2sql-DSC\n"
   ]
  },
  {
   "cell_type": "code",
   "execution_count": null,
   "metadata": {},
   "outputs": [],
   "source": [
    "def api_request(query):\n",
    "    try:\n",
    "        # Obtain the credentials and region\n",
    "        session = boto3.Session()\n",
    "        credentials = session.get_credentials().get_frozen_credentials()\n",
    "        region = session.region_name\n",
    "\n",
    "        # Configure the authentification\n",
    "        auth = AWSRequestsAuth(\n",
    "            aws_access_key=credentials.access_key,\n",
    "            aws_secret_access_key=credentials.secret_key,\n",
    "            aws_host='pkfi0qhbo3.execute-api.us-west-2.amazonaws.com', # Host de la API\n",
    "            aws_region=region,\n",
    "            aws_service='execute-api',\n",
    "            aws_token=credentials.token\n",
    "        )\n",
    "        \n",
    "        # Query is coded to send it using http query\n",
    "        encoded_query = urllib.parse.quote(query, safe=\"\")\n",
    "\n",
    "        params = {\n",
    "            'query': encoded_query\n",
    "        }\n",
    "\n",
    "        # Perform the request\n",
    "        response = requests.get(\"https://pkfi0qhbo3.execute-api.us-west-2.amazonaws.com/v1/\", auth=auth, params=params)\n",
    "\n",
    "        # Response management\n",
    "        if response.status_code == 200:\n",
    "            print('Petición correcta.')\n",
    "            data = response.text\n",
    "            print(data)\n",
    "        else:\n",
    "            print(f'Error en la petición: {response.status_code}')\n",
    "            print(response.text)\n",
    "\n",
    "    except Exception as e:\n",
    "        print(f\"Error en la petición: {e}\")\n",
    "        "
   ]
  },
  {
   "cell_type": "markdown",
   "metadata": {},
   "source": [
    "## EXAMPLE"
   ]
  },
  {
   "cell_type": "code",
   "execution_count": null,
   "metadata": {},
   "outputs": [],
   "source": [
    "# Query to send to Bedrock\n",
    "query = \"Lista para cada episodio la descripción del diagnóstico, el número de localizaciones donde ha estado el paciente y la unidad médica organizativa cuando la unidad organizativa médica sea 'nrl', 'psi', o 'nrc'\"\n",
    "\n",
    "api_request(query)"
   ]
  }
 ],
 "metadata": {
  "kernelspec": {
   "display_name": "Python 3",
   "language": "python",
   "name": "python3"
  },
  "language_info": {
   "codemirror_mode": {
    "name": "ipython",
    "version": 3
   },
   "file_extension": ".py",
   "mimetype": "text/x-python",
   "name": "python",
   "nbconvert_exporter": "python",
   "pygments_lexer": "ipython3",
   "version": "3.8.10"
  }
 },
 "nbformat": 4,
 "nbformat_minor": 2
}
