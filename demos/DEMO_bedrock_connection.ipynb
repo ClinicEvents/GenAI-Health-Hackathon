{
 "cells": [
  {
   "cell_type": "markdown",
   "metadata": {},
   "source": [
    "# DEMO: Bedrock connection"
   ]
  },
  {
   "cell_type": "markdown",
   "metadata": {},
   "source": [
    "[EN] This notebook shows how to create a connection with AWS Bedrock using python Boto3's SDK. The notebook shows the procedure of sending a query to the LLM. In this case, the LLM acts as a python software development expert and will only generate coding answers.\n",
    "\n",
    "[ES] En este notebook se muestra cómo crear una conexión con AWS Bedrock utilizando el SDK de python Boto3. El notebook muestra el procedimiento enviar una consulta a la LLM. En este caso, la LLM se comportará como un experto en desarrollo de software con python y únicamente generará respuestas de código.\n"
   ]
  },
  {
   "cell_type": "markdown",
   "metadata": {},
   "source": [
    "### 1. Package installation  "
   ]
  },
  {
   "cell_type": "code",
   "execution_count": null,
   "metadata": {},
   "outputs": [],
   "source": [
    "!pip install boto3"
   ]
  },
  {
   "cell_type": "markdown",
   "metadata": {},
   "source": [
    "### 2. Package import\n",
    "\n",
    "[EN] The needed packages are:\n",
    "\n",
    "- **boto3**: AWS access.\n",
    "\n",
    "[ES] A continuación, se importa los paquetes que son necesarios en esta demo:\n",
    "\n",
    "- **boto3**: acceso a las funcionalidades de AWS.\n"
   ]
  },
  {
   "cell_type": "code",
   "execution_count": null,
   "metadata": {
    "tags": []
   },
   "outputs": [],
   "source": [
    "import boto3"
   ]
  },
  {
   "cell_type": "markdown",
   "metadata": {},
   "source": [
    "### 3. Previous configuration  \n",
    "[EN] Select the LLM model. Region must be *us-west-2* (Oregon).\n",
    "\n",
    "[ES] Selecciona el modelo LLM. la región debe ser *us-west-2* (Oregón)."
   ]
  },
  {
   "cell_type": "code",
   "execution_count": 2,
   "metadata": {
    "tags": []
   },
   "outputs": [],
   "source": [
    "AWS_REGION_NAME = \"us-west-2\" # AWS region to be used\n",
    "GENERATION_MODEL = \"anthropic.claude-3-5-sonnet-20240620-v1:0\" # LLM model"
   ]
  },
  {
   "cell_type": "markdown",
   "metadata": {},
   "source": [
    "### 4. Amazon Bedrock Client creation"
   ]
  },
  {
   "cell_type": "code",
   "execution_count": 4,
   "metadata": {
    "tags": []
   },
   "outputs": [],
   "source": [
    "client = boto3.client(\n",
    "    'bedrock-runtime', \n",
    "    region_name=AWS_REGION_NAME,\n",
    ")"
   ]
  },
  {
   "cell_type": "markdown",
   "metadata": {},
   "source": [
    "### 5. Utility function definition  \n",
    "\n",
    "[EN] Function that receives a user query. This, as well as the LLM task indications, are sent through the Boto3 client to get back to the answer.\n",
    "\n",
    "[ES] Función que recibe la consulta del usuario. Esta, junto con las indicaciones de la tarea que debe realizar la LLM, se envía a través del cliente de Boto3 para devolver una respuesta al usuario"
   ]
  },
  {
   "cell_type": "code",
   "execution_count": null,
   "metadata": {
    "tags": []
   },
   "outputs": [],
   "source": [
    "def generate_response(user_input: str) -> str:\n",
    "    \n",
    "    completion = client.converse(\n",
    "        modelId=GENERATION_MODEL,\n",
    "        system=[{\"text\": f\"\"\"You are an expert python software developer..\n",
    "                            Respond with the python code required to perform the action requested by the user. Add comments explaining the code. \n",
    "                            ONLY include the code.\n",
    "                            Make sure the answer only includes python code and double check it.\"\"\"}],\n",
    "        messages=[\n",
    "            {\"role\": \"user\", \"content\": [{\"text\": f\"\"\"La pregunta del usuario es: {user_input}\"\"\"}]},\n",
    "        ],\n",
    "    )\n",
    "    \n",
    "    return completion[\"output\"][\"message\"][\"content\"][0][\"text\"]\n"
   ]
  },
  {
   "cell_type": "markdown",
   "metadata": {},
   "source": [
    "## EXAMPLE: Interact with the model  \n",
    "[EN] Now, you can interact with me model and print the answer.\n",
    "\n",
    "[ES] Ahora ya dispone de todo lo necesario para interactuar con el modelo e imprimir el resultado."
   ]
  },
  {
   "cell_type": "code",
   "execution_count": null,
   "metadata": {
    "tags": []
   },
   "outputs": [],
   "source": [
    "response = generate_response(\"Write a code that print 'Hello World!'\")\n",
    "print(response)"
   ]
  }
 ],
 "metadata": {
  "kernelspec": {
   "display_name": "conda_pytorch_p310",
   "language": "python",
   "name": "conda_pytorch_p310"
  },
  "language_info": {
   "codemirror_mode": {
    "name": "ipython",
    "version": 3
   },
   "file_extension": ".py",
   "mimetype": "text/x-python",
   "name": "python",
   "nbconvert_exporter": "python",
   "pygments_lexer": "ipython3",
   "version": "3.10.14"
  }
 },
 "nbformat": 4,
 "nbformat_minor": 4
}
