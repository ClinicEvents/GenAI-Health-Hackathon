{
 "cells": [
  {
   "cell_type": "markdown",
   "metadata": {},
   "source": [
    "# DEMO: S3 connection (read)"
   ]
  },
  {
   "cell_type": "markdown",
   "metadata": {},
   "source": [
    "[EN] This notebook shows how to read files from a S3 bucket.\n",
    "\n",
    "[ES] En este notebook se muestra cómo leer ficheros en un bucket de S3."
   ]
  },
  {
   "cell_type": "markdown",
   "metadata": {},
   "source": [
    "### 1. Package Installation  "
   ]
  },
  {
   "cell_type": "code",
   "execution_count": null,
   "metadata": {},
   "outputs": [],
   "source": [
    "!pip install boto3\n",
    "!pip install pandas\n",
    "!pip install StringIO"
   ]
  },
  {
   "cell_type": "markdown",
   "metadata": {},
   "source": [
    "### 2. Package import\n",
    "\n",
    "[EN] The needed packages are:\n",
    "\n",
    "- **boto3**: AWS functionalities access.\n",
    "- **pandas**:  Python library specialized in data manipulation and analysis.\n",
    "- **StringIO**: a text stream using an in-memory text buffer.\n",
    "\n",
    "[ES] A continuación, se importa los paquetes que son necesarios en esta demo:\n",
    "\n",
    "- **boto3**: acceso a las funcionalidades de AWS.\n",
    "- **pandas**:  librería de Python especializada en la manipulación y el análisis de datos.\n",
    "- **StringIO**: crea un steam de texto usando almacenamiento del texto en memoria."
   ]
  },
  {
   "cell_type": "code",
   "execution_count": null,
   "metadata": {},
   "outputs": [],
   "source": [
    "import boto3\n",
    "import pandas as pd\n",
    "from io import StringIO"
   ]
  },
  {
   "cell_type": "markdown",
   "metadata": {},
   "source": [
    "### 3. Previous configuration  \n",
    "\n",
    "[EN] Define the bucket and the file location.\n",
    "\n",
    "[ES] Debe definir el bucket y la localización del fichero."
   ]
  },
  {
   "cell_type": "code",
   "execution_count": null,
   "metadata": {},
   "outputs": [],
   "source": [
    "BUCKET_NAME = 'data-clinic-hackathon-2024'\n",
    "BUCKET_FILE_LOCATION_AND_NAME = 'BASE_DEMO/data_demo.csv'"
   ]
  },
  {
   "cell_type": "markdown",
   "metadata": {},
   "source": [
    "### 4. READING function  \n",
    "\n",
    "#### 4.1 CSV file reading\n",
    "\n",
    "[EN] Function that allows to read a csv file from a S3 bucket and save its content to a pandas dataframe.\n",
    "\n",
    "[ES] Función que permite leer un fichero csv de un bucket en S3 y guardar su contenido en un pandas dataframe."
   ]
  },
  {
   "cell_type": "code",
   "execution_count": null,
   "metadata": {},
   "outputs": [],
   "source": [
    "def read_csv_from_bucket(bucket_name, file_name):\n",
    "    try:\n",
    "        s3_client = boto3.client('s3')\n",
    "        \n",
    "        # Read S3 objet\n",
    "        response = s3_client.get_object(Bucket=bucket_name, Key=file_name)\n",
    "\n",
    "        # Read the file content as bytes\n",
    "        content = response['Body'].read()\n",
    "\n",
    "        # Convert bytes to string buffer\n",
    "        csv_content = content.decode('utf-8')\n",
    "        \n",
    "        # Load the content into pandas dataframe\n",
    "        df = pd.read_csv(StringIO(csv_content))\n",
    "\n",
    "        return df\n",
    "\n",
    "    except Exception as e:\n",
    "        print(f\"Error al leer el archivo desde el bucket: {e}\")\n",
    "        return None\n",
    "        "
   ]
  },
  {
   "cell_type": "markdown",
   "metadata": {},
   "source": [
    "## EXAMPLE"
   ]
  },
  {
   "cell_type": "code",
   "execution_count": null,
   "metadata": {},
   "outputs": [],
   "source": [
    "df = read_csv_from_bucket(BUCKET_NAME, BUCKET_FILE_LOCATION_AND_NAME)\n",
    "\n",
    "if df is not None:\n",
    "    print(df)"
   ]
  },
  {
   "cell_type": "markdown",
   "metadata": {},
   "source": [
    "#### 4.2 TXT file reading\n",
    "\n",
    "[EN] Function that allows to read a txt file from a S3 bucket and save its content in a variable.\n",
    "\n",
    "[ES] Función que permite leer un fichero txt de un bucket en S3 y guardar su contenido en un variable."
   ]
  },
  {
   "cell_type": "code",
   "execution_count": null,
   "metadata": {},
   "outputs": [],
   "source": [
    "def read_txt_from_bucket(bucket_name, file_name):\n",
    "    try:\n",
    "        s3_client = boto3.client('s3')\n",
    "        \n",
    "        # Obtain S3 object\n",
    "        response = s3_client.get_object(Bucket=bucket_name, Key=file_name)\n",
    "\n",
    "        # Read the file content as bytes\n",
    "        content = response['Body'].read()\n",
    "\n",
    "        return content\n",
    "\n",
    "    except Exception as e:\n",
    "        print(f\"Error al leer el archivo desde el bucket: {e}\")\n",
    "        return None"
   ]
  },
  {
   "cell_type": "markdown",
   "metadata": {},
   "source": [
    "## EXAMPLE"
   ]
  },
  {
   "cell_type": "code",
   "execution_count": null,
   "metadata": {},
   "outputs": [],
   "source": [
    "content = read_txt_from_bucket(BUCKET_NAME, BUCKET_FILE_LOCATION_AND_NAME)\n",
    "\n",
    "print(content)"
   ]
  }
 ],
 "metadata": {
  "kernelspec": {
   "display_name": "Python 3",
   "language": "python",
   "name": "python3"
  },
  "language_info": {
   "codemirror_mode": {
    "name": "ipython",
    "version": 3
   },
   "file_extension": ".py",
   "mimetype": "text/x-python",
   "name": "python",
   "nbconvert_exporter": "python",
   "pygments_lexer": "ipython3",
   "version": "3.8.10"
  }
 },
 "nbformat": 4,
 "nbformat_minor": 2
}
