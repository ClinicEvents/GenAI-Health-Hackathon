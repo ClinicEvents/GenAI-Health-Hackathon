{
 "cells": [
  {
   "cell_type": "markdown",
   "metadata": {},
   "source": [
    "# DEMO: S3 connection (write)"
   ]
  },
  {
   "cell_type": "markdown",
   "metadata": {},
   "source": [
    "[EN] This notebook shows how to write files in a S3 bucket.\n",
    "\n",
    "[ES] En este notebook se muestra cómo escribir ficheros en un bucket de S3."
   ]
  },
  {
   "cell_type": "markdown",
   "metadata": {},
   "source": [
    "### 1. Package Installation  "
   ]
  },
  {
   "cell_type": "code",
   "execution_count": null,
   "metadata": {},
   "outputs": [],
   "source": [
    "!pip install boto3"
   ]
  },
  {
   "cell_type": "markdown",
   "metadata": {},
   "source": [
    "### 2. Packages import\n",
    "\n",
    "[EN] The needed packages are:\n",
    "\n",
    "- **boto3**: AWS functionalities access.\n",
    "\n",
    "[ES] A continuación, se importa los paquetes que son necesarios en esta demo:\n",
    "\n",
    "- **boto3**: acceso a las funcionalidades de AWS."
   ]
  },
  {
   "cell_type": "code",
   "execution_count": 1,
   "metadata": {},
   "outputs": [],
   "source": [
    "import boto3"
   ]
  },
  {
   "cell_type": "markdown",
   "metadata": {},
   "source": [
    "### 3. Writing functiones  \n",
    "\n",
    "#### 3.1. Writing from a variable\n",
    "\n",
    "[EN] Function that allows to write the variable content in a S3 bucket.\n",
    "\n",
    "[ES] Función que permite escribir el contenido de una variable en un bucket de S3."
   ]
  },
  {
   "cell_type": "code",
   "execution_count": null,
   "metadata": {},
   "outputs": [],
   "source": [
    "# Variable that contains the content that you want to write\n",
    "content = 'This is the content that we want to save in S3.'\n",
    "\n",
    "# Bucket definition \n",
    "BUCKET_NAME = 'test-datathon' # Bucket name\n",
    "BUCKET_FILE_LOCATION_AND_NAME = 'test/file_name.txt' # S3 path"
   ]
  },
  {
   "cell_type": "code",
   "execution_count": null,
   "metadata": {},
   "outputs": [],
   "source": [
    "def write_variable_to_bucket(bucket_name, file_name, content):\n",
    "    try:\n",
    "        s3_client = boto3.client('s3')\n",
    "\n",
    "        content_bytes = content.encode('utf-8')\n",
    "\n",
    "        s3_client.put_object(Bucket=bucket_name, Key=file_name, Body=content_bytes)\n",
    "        \n",
    "        print(f\"Contenido subido correctamente a '{bucket_name}'\")\n",
    "    except Exception as e:\n",
    "        print(f\"Error al subir el archivo: {e}\")\n",
    "        "
   ]
  },
  {
   "cell_type": "markdown",
   "metadata": {},
   "source": [
    "## EXAMPLE"
   ]
  },
  {
   "cell_type": "code",
   "execution_count": null,
   "metadata": {},
   "outputs": [],
   "source": [
    "write_variable_to_bucket(BUCKET_NAME, BUCKET_FILE_LOCATION_AND_NAME, content)"
   ]
  },
  {
   "cell_type": "markdown",
   "metadata": {},
   "source": [
    "#### 3.2. File writing\n",
    "\n",
    "[EN] Function that allows to write a file in a S3 bucket. Any kind of file can be uploaded (.txt, .csv, .ipynb, etc.)\n",
    "\n",
    "[ES] Función que permite escribir un fichero a un bucket en S3. Se puede subir cualquier tipo de fichero (.txt, .csv, .ipynb, etc.)"
   ]
  },
  {
   "cell_type": "code",
   "execution_count": null,
   "metadata": {},
   "outputs": [],
   "source": [
    "BUCKET_NAME = 'test-datathon' # Bucket name\n",
    "BUCKET_FILE_LOCATION_AND_NAME = 'test/file_name.csv' # S3 path\n",
    "\n",
    "LOCAL_FILE_NAME = \"file_name.csv\" # File name (LOCAL location) that you want to save "
   ]
  },
  {
   "cell_type": "code",
   "execution_count": null,
   "metadata": {},
   "outputs": [],
   "source": [
    "def write_file_to_bucket(bucket_name, bucket_file_name, local_file_name):\n",
    "    try:\n",
    "        s3_client = boto3.client('s3')\n",
    "        \n",
    "        with open(local_file_name, 'rb') as f:\n",
    "            s3_client.upload_fileobj(f, bucket_name, bucket_file_name)\n",
    "        \n",
    "        print(f\"Contenido subido correctamente a '{bucket_name}'\")\n",
    "    except Exception as e:\n",
    "        print(f\"Error al subir el archivo: {e}\")"
   ]
  },
  {
   "cell_type": "markdown",
   "metadata": {},
   "source": [
    "## EXAMPLE"
   ]
  },
  {
   "cell_type": "code",
   "execution_count": null,
   "metadata": {},
   "outputs": [],
   "source": [
    "write_file_to_bucket(BUCKET_NAME, BUCKET_FILE_LOCATION_AND_NAME, LOCAL_FILE_NAME)"
   ]
  }
 ],
 "metadata": {
  "kernelspec": {
   "display_name": "Python 3",
   "language": "python",
   "name": "python3"
  },
  "language_info": {
   "codemirror_mode": {
    "name": "ipython",
    "version": 3
   },
   "file_extension": ".py",
   "mimetype": "text/x-python",
   "name": "python",
   "nbconvert_exporter": "python",
   "pygments_lexer": "ipython3",
   "version": "3.8.10"
  }
 },
 "nbformat": 4,
 "nbformat_minor": 2
}
